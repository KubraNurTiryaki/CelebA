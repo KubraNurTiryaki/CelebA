{
 "cells": [
  {
   "cell_type": "code",
   "execution_count": 1,
   "id": "ca43cb2f-69bf-48ef-a17c-81130611b520",
   "metadata": {},
   "outputs": [],
   "source": [
    "import shutil \n",
    "import os\n",
    "import matplotlib.pyplot as plt\n",
    "import pandas as pd\n",
    "from IPython.display import Image as ImgDisplay\n",
    "from sklearn.model_selection import train_test_split"
   ]
  },
  {
   "cell_type": "code",
   "execution_count": 2,
   "id": "95540007-d12c-45d8-8bdb-a50a305bf83d",
   "metadata": {},
   "outputs": [],
   "source": [
    "\"\"\"\n",
    "https://www.kaggle.com/datasets/jessicali9530/celeba-dataset\n",
    "adresisnden\n",
    "    img_align_celebA klasörüyle\n",
    "    list_attr_celeba.csv dosyasını indir ve projedeki dataset klasörüne at.\n",
    "\"\"\"\n",
    "\n",
    "image_dir = \"./img_align_celeba/img_align_celeba\"\n",
    "attributes_file = \"./list_attr_celeba.csv\"\n",
    "output_dir = \"./preprocessed_dataset_celeba\""
   ]
  },
  {
   "cell_type": "code",
   "execution_count": 3,
   "id": "1c15625d-a6ae-4ccb-8c0a-9f2b9ad6269b",
   "metadata": {},
   "outputs": [
    {
     "name": "stdout",
     "output_type": "stream",
     "text": [
      "     image_id  5_o_Clock_Shadow  Arched_Eyebrows  Attractive  Bags_Under_Eyes  \\\n",
      "0  000001.jpg                -1                1           1               -1   \n",
      "1  000002.jpg                -1               -1          -1                1   \n",
      "2  000003.jpg                -1               -1          -1               -1   \n",
      "3  000004.jpg                -1               -1           1               -1   \n",
      "4  000005.jpg                -1                1           1               -1   \n",
      "\n",
      "   Bald  Bangs  Big_Lips  Big_Nose  Black_Hair  ...  Sideburns  Smiling  \\\n",
      "0    -1     -1        -1        -1          -1  ...         -1        1   \n",
      "1    -1     -1        -1         1          -1  ...         -1        1   \n",
      "2    -1     -1         1        -1          -1  ...         -1       -1   \n",
      "3    -1     -1        -1        -1          -1  ...         -1       -1   \n",
      "4    -1     -1         1        -1          -1  ...         -1       -1   \n",
      "\n",
      "   Straight_Hair  Wavy_Hair  Wearing_Earrings  Wearing_Hat  Wearing_Lipstick  \\\n",
      "0              1         -1                 1           -1                 1   \n",
      "1             -1         -1                -1           -1                -1   \n",
      "2             -1          1                -1           -1                -1   \n",
      "3              1         -1                 1           -1                 1   \n",
      "4             -1         -1                -1           -1                 1   \n",
      "\n",
      "   Wearing_Necklace  Wearing_Necktie  Young  \n",
      "0                -1               -1      1  \n",
      "1                -1               -1      1  \n",
      "2                -1               -1      1  \n",
      "3                 1               -1      1  \n",
      "4                -1               -1      1  \n",
      "\n",
      "[5 rows x 41 columns]\n"
     ]
    }
   ],
   "source": [
    "data = pd.read_csv(attributes_file)\n",
    "print(data.head())"
   ]
  },
  {
   "cell_type": "code",
   "execution_count": 6,
   "id": "0425c066-9524-47f1-991b-aa97aa823475",
   "metadata": {},
   "outputs": [],
   "source": [
    "# Siyah saç özelliği \"1\" olan Kadın ünlülerden 1000 tane örnek seçtik, dataframe'e attık.\n",
    "df_blackHair = data.loc[data[\"Black_Hair\"] == 1 & (data[\"Male\"] == -1)].sample(n = 1000) \n",
    "df_blonde = data.loc[data[\"Blond_Hair\"] == 1 & (data[\"Male\"] == -1)].sample(n = 1000)\n",
    "\n",
    "#Sarı saç özelliği \"1\" olan Kadın ünlülerden 1000 tane örnek seçtik, dataframe'e attık."
   ]
  },
  {
   "cell_type": "code",
   "execution_count": 7,
   "id": "5ce3599e-c463-4e91-85ca-56cd237b7880",
   "metadata": {},
   "outputs": [
    {
     "data": {
      "image/jpeg": "[encoded data removed]",
      "text/plain": [
       "<IPython.core.display.Image object>"
      ]
     },
     "execution_count": 7,
     "metadata": {},
     "output_type": "execute_result"
    }
   ],
   "source": [
    "ImgDisplay(os.path.join(image_dir, df_blackHair.iloc[0][\"image_id\"]))"
   ]
  },
  {
   "cell_type": "code",
   "execution_count": 8,
   "id": "3040892c-1f1f-46e3-8fd1-6cbafa95ed98",
   "metadata": {},
   "outputs": [
    {
     "data": {
      "image/jpeg": "[encoded data removed]",
      "text/plain": [
       "<IPython.core.display.Image object>"
      ]
     },
     "execution_count": 8,
     "metadata": {},
     "output_type": "execute_result"
    }
   ],
   "source": [
    "ImgDisplay(os.path.join(image_dir, df_blonde.iloc[0][\"image_id\"]))"
   ]
  },
  {
   "cell_type": "code",
   "execution_count": 9,
   "id": "2e9ad557-18f3-4909-9444-2808d01f03e1",
   "metadata": {},
   "outputs": [],
   "source": [
    "#Seçilen resimlerin isimlerine daha rahat ulaşmak için bir listeye kaydedelim\n",
    "domainK, domainD = [] , []\n",
    "\n",
    "for index, row in df_blackHair.iterrows():\n",
    "    domainK.append(row[\"image_id\"])\n",
    "\n",
    "for index, row in df_blonde.iterrows():\n",
    "    domainD.append(row[\"image_id\"])"
   ]
  },
  {
   "cell_type": "code",
   "execution_count": 13,
   "id": "fe111558-24a1-4e7a-b6a5-1703b37a1837",
   "metadata": {},
   "outputs": [],
   "source": [
    "# Train ve test verilerini ilk seçtiğimiz 1000'er resimden bölerek oluşturalım.\n",
    "K_train, K_test = train_test_split(domainK, test_size = 0.01, random_state = 1453 )\n",
    "D_train, D_test = train_test_split(domainD, test_size = 0.01, random_state = 1453 )\n"
   ]
  },
  {
   "cell_type": "code",
   "execution_count": 15,
   "id": "945ff4b0-7c3c-4168-8184-9f998da48cb6",
   "metadata": {},
   "outputs": [],
   "source": [
    "#tain klasörlerinin pathlerini belirleyip kayıt dosyalarını oluşturuyoruz.\n",
    "K_train_dir = os.path.join(output_dir, \"Train/Black\")\n",
    "D_train_dir = os.path.join(output_dir, \"Train/Blonde\")\n",
    "\n",
    "os.makedirs(K_train_dir, exist_ok = True)\n",
    "os.makedirs(D_train_dir, exist_ok = True)\n",
    "\n",
    "#orijinal lokasyondan yeni lokasyona kopyalıyoruz.\n",
    "for imageK, imageD in zip(K_train, D_train):\n",
    "    shutil.copy(os.path.join(image_dir, imageK), os.path.join(K_train_dir, imageK))\n",
    "    shutil.copy(os.path.join(image_dir, imageD), os.path.join(D_train_dir, imageD))\n",
    "\n",
    "#train klasörlerinin yolları belirlenir ve kayıt klasörleri oluşturulur.\n",
    "K_test_dir = os.path.join(output_dir, \"Test/Black\")\n",
    "D_test_dir = os.path.join(output_dir, \"Test/Blonde\")\n",
    "\n",
    "os.makedirs(K_test_dir, exist_ok = True)\n",
    "os.makedirs(D_test_dir, exist_ok = True)\n",
    "\n",
    "#orijinal lokasyondan yeni lokasyona kopyalıyoruz.\n",
    "for imageK, imageD in zip(K_test, D_test):\n",
    "    shutil.copy(os.path.join(image_dir, imageK), os.path.join(K_test_dir,imageK))\n",
    "    shutil.copy(os.path.join(image_dir, imageD), os.path.join(D_test_dir, imageD))"
   ]
  },
  {
   "cell_type": "code",
   "execution_count": null,
   "id": "0a78b5fd-9f6c-4c63-8e9d-9c034728578a",
   "metadata": {},
   "outputs": [],
   "source": []
  }
 ],
 "metadata": {
  "kernelspec": {
   "display_name": "Python 3 (ipykernel)",
   "language": "python",
   "name": "python3"
  },
  "language_info": {
   "codemirror_mode": {
    "name": "ipython",
    "version": 3
   },
   "file_extension": ".py",
   "mimetype": "text/x-python",
   "name": "python",
   "nbconvert_exporter": "python",
   "pygments_lexer": "ipython3",
   "version": "3.11.7"
  }
 },
 "nbformat": 4,
 "nbformat_minor": 5
}
